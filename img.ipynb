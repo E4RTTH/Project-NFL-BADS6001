{
 "cells": [
  {
   "cell_type": "code",
   "execution_count": 1,
   "metadata": {},
   "outputs": [],
   "source": [
    "import pandas as pd\n",
    "import requests\n",
    "from bs4 import BeautifulSoup, SoupStrainer\n",
    "from PIL import Image\n",
    "import io"
   ]
  },
  {
   "cell_type": "code",
   "execution_count": 2,
   "metadata": {},
   "outputs": [],
   "source": [
    "nfl = pd.read_csv('NameQB.csv')"
   ]
  },
  {
   "cell_type": "code",
   "execution_count": 3,
   "metadata": {},
   "outputs": [],
   "source": [
    "nn = []\n",
    "name = nfl['Player']\n",
    "for i in name:\n",
    "    nn.append(i)"
   ]
  },
  {
   "cell_type": "code",
   "execution_count": 4,
   "metadata": {},
   "outputs": [],
   "source": [
    "ww = {}\n",
    "for i in nn:\n",
    "    ww[i] = i.split()[1][:4]+i.split()[0][:2]"
   ]
  },
  {
   "cell_type": "code",
   "execution_count": 6,
   "metadata": {},
   "outputs": [],
   "source": [
    "img = {}\n",
    "number = ['00','01']\n",
    "j = 0\n",
    "\n",
    "web = 'https://www.pro-football-reference.com/players/xxx/{}{}.htm'\n",
    "\n",
    "for i in ww:\n",
    "    x = web.replace('xxx',ww[i][0])\n",
    "    for c in number:\n",
    "        if j == 0:\n",
    "            try:\n",
    "                e = x.format(ww[i],c)\n",
    "                r = requests.get(e)\n",
    "                s = BeautifulSoup(r.text, 'lxml')\n",
    "                d = s.find('div',{'class':'media-item'})\n",
    "                img[i] = [d]\n",
    "            except:\n",
    "                break\n",
    "        else:\n",
    "            j += 1\n",
    "            if img.get(i) != [None]:\n",
    "                pass\n",
    "            else:\n",
    "                try:\n",
    "                    e = x.format(ww[i],c)\n",
    "                    r = requests.get(e)\n",
    "                    s = BeautifulSoup(r.text, 'lxml')\n",
    "                    d = s.find('div',{'class':'media-item'})\n",
    "                    img[i] = [d]\n",
    "                except:\n",
    "                    break"
   ]
  },
  {
   "cell_type": "code",
   "execution_count": 8,
   "metadata": {},
   "outputs": [],
   "source": [
    "fd = pd.DataFrame.from_dict(img, orient=\"index\")\n",
    "fd.to_csv(\"img.csv\")"
   ]
  }
 ],
 "metadata": {
  "kernelspec": {
   "display_name": "Python 3",
   "language": "python",
   "name": "python3"
  },
  "language_info": {
   "codemirror_mode": {
    "name": "ipython",
    "version": 3
   },
   "file_extension": ".py",
   "mimetype": "text/x-python",
   "name": "python",
   "nbconvert_exporter": "python",
   "pygments_lexer": "ipython3",
   "version": "3.7.6"
  }
 },
 "nbformat": 4,
 "nbformat_minor": 4
}
